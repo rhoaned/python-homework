{
 "cells": [
  {
   "cell_type": "code",
   "execution_count": 1,
   "id": "74d1b72a-055f-445c-8d7e-a50b4df95b95",
   "metadata": {},
   "outputs": [],
   "source": [
    "## Unit 2 | Homework Assignment: Automate Your Day Job with Python ##\n"
   ]
  },
  {
   "cell_type": "code",
   "execution_count": 45,
   "id": "099b50e5-e192-485f-8ad8-42954d9362b0",
   "metadata": {},
   "outputs": [],
   "source": [
    "# Import libraries and dependencies\n",
    "import pandas as pd\n",
    "import numpy as np\n",
    "from pathlib import Path\n"
   ]
  },
  {
   "cell_type": "code",
   "execution_count": 52,
   "id": "ec25a855-e71f-40dd-a369-b81f2bba5647",
   "metadata": {},
   "outputs": [
    {
     "data": {
      "text/html": [
       "<div>\n",
       "<style scoped>\n",
       "    .dataframe tbody tr th:only-of-type {\n",
       "        vertical-align: middle;\n",
       "    }\n",
       "\n",
       "    .dataframe tbody tr th {\n",
       "        vertical-align: top;\n",
       "    }\n",
       "\n",
       "    .dataframe thead th {\n",
       "        text-align: right;\n",
       "    }\n",
       "</style>\n",
       "<table border=\"1\" class=\"dataframe\">\n",
       "  <thead>\n",
       "    <tr style=\"text-align: right;\">\n",
       "      <th></th>\n",
       "      <th>Date</th>\n",
       "      <th>Profit/Losses</th>\n",
       "    </tr>\n",
       "  </thead>\n",
       "  <tbody>\n",
       "    <tr>\n",
       "      <th>46</th>\n",
       "      <td>Nov-2013</td>\n",
       "      <td>-687986</td>\n",
       "    </tr>\n",
       "    <tr>\n",
       "      <th>20</th>\n",
       "      <td>Sep-2011</td>\n",
       "      <td>899906</td>\n",
       "    </tr>\n",
       "    <tr>\n",
       "      <th>6</th>\n",
       "      <td>Jul-2010</td>\n",
       "      <td>1033096</td>\n",
       "    </tr>\n",
       "    <tr>\n",
       "      <th>22</th>\n",
       "      <td>Nov-2011</td>\n",
       "      <td>132003</td>\n",
       "    </tr>\n",
       "    <tr>\n",
       "      <th>30</th>\n",
       "      <td>Jul-2012</td>\n",
       "      <td>506702</td>\n",
       "    </tr>\n",
       "    <tr>\n",
       "      <th>74</th>\n",
       "      <td>Mar-2016</td>\n",
       "      <td>-174946</td>\n",
       "    </tr>\n",
       "    <tr>\n",
       "      <th>53</th>\n",
       "      <td>Jun-2014</td>\n",
       "      <td>448062</td>\n",
       "    </tr>\n",
       "    <tr>\n",
       "      <th>81</th>\n",
       "      <td>Oct-2016</td>\n",
       "      <td>102685</td>\n",
       "    </tr>\n",
       "    <tr>\n",
       "      <th>8</th>\n",
       "      <td>Sep-2010</td>\n",
       "      <td>-216386</td>\n",
       "    </tr>\n",
       "    <tr>\n",
       "      <th>1</th>\n",
       "      <td>Feb-2010</td>\n",
       "      <td>984655</td>\n",
       "    </tr>\n",
       "  </tbody>\n",
       "</table>\n",
       "</div>"
      ],
      "text/plain": [
       "        Date  Profit/Losses\n",
       "46  Nov-2013        -687986\n",
       "20  Sep-2011         899906\n",
       "6   Jul-2010        1033096\n",
       "22  Nov-2011         132003\n",
       "30  Jul-2012         506702\n",
       "74  Mar-2016        -174946\n",
       "53  Jun-2014         448062\n",
       "81  Oct-2016         102685\n",
       "8   Sep-2010        -216386\n",
       "1   Feb-2010         984655"
      ]
     },
     "execution_count": 52,
     "metadata": {},
     "output_type": "execute_result"
    }
   ],
   "source": [
    "# Set the path\n",
    "file_path = Path(\"Resources/budget_data.csv\")\n",
    "# Read in the CSV as a DataFrame\n",
    "budget_csv = pd.read_csv(file_path)\n",
    "budget_csv.sample(10)"
   ]
  },
  {
   "cell_type": "code",
   "execution_count": 63,
   "id": "e5d66f16-17bf-4e30-a059-3235744b9146",
   "metadata": {},
   "outputs": [],
   "source": [
    "# Calculate total number of months included in the dataset\n",
    "total_months = len(budget_csv.index)"
   ]
  },
  {
   "cell_type": "code",
   "execution_count": 80,
   "id": "da6cb712-43ea-4aa7-bbd6-521f8b24e6c7",
   "metadata": {},
   "outputs": [],
   "source": [
    "# Calculate net total amount of Profit/Losses over the entire period.\n",
    "total_pnl = budget_csv[\"Profit/Losses\"].sum()\n"
   ]
  },
  {
   "cell_type": "code",
   "execution_count": 95,
   "id": "6bd79531-c200-4697-8087-106f62027a18",
   "metadata": {},
   "outputs": [],
   "source": [
    "# Created a shifted column to calculate difference between each data entry in pnl\n",
    "budget_csv['shifted_column'] = budget_csv['Profit/Losses'].shift(1)\n",
    "\n",
    "# Calculate the difference between each data entry\n",
    "budget_csv['difference'] = budget_csv['Profit/Losses'] - budget_csv['shifted_column']\n",
    "\n",
    "# Calulate the outputs required\n",
    "average_change = budget_csv['difference'].mean()\n",
    "greatest_increase = budget_csv['difference'].max()\n",
    "greatest_decrease = budget_csv['difference'].min()\n"
   ]
  },
  {
   "cell_type": "code",
   "execution_count": 103,
   "id": "711367a4-7716-4c2a-822b-cd21a72695f3",
   "metadata": {},
   "outputs": [
    {
     "name": "stdout",
     "output_type": "stream",
     "text": [
      "Financial Analysis\n",
      "----------------------------\n",
      "Total Months: 86\n",
      "Total: $38382578\n",
      "Average Change: $-2315.12\n",
      "Greatest Increase in Profits: Feb-2012 ($1926159.0)\n",
      "Greatest Decrease in Profits: Sep-2013 ($-2196167.0)\n"
     ]
    }
   ],
   "source": [
    "# Print the results\n",
    "print(\"Financial Analysis\")\n",
    "print(\"----------------------------\")\n",
    "print(f\"Total Months: {total_months}\")\n",
    "print(f\"Total: ${total_pnl}\")\n",
    "print(f\"Average Change: ${average_change:.2f}\")\n",
    "print(f\"Greatest Increase in Profits: Feb-2012 (${greatest_increase})\")\n",
    "print(f\"Greatest Decrease in Profits: Sep-2013 (${greatest_decrease})\")      "
   ]
  },
  {
   "cell_type": "code",
   "execution_count": null,
   "id": "0a14006e-2b75-425c-b0a5-d90563ff7201",
   "metadata": {},
   "outputs": [],
   "source": []
  },
  {
   "cell_type": "code",
   "execution_count": null,
   "id": "6ff76326-ea89-40fd-ae23-16cbc513032b",
   "metadata": {},
   "outputs": [],
   "source": []
  },
  {
   "cell_type": "code",
   "execution_count": null,
   "id": "2fe3d30e-dde1-494d-879c-2bae65cbbe54",
   "metadata": {},
   "outputs": [],
   "source": []
  },
  {
   "cell_type": "code",
   "execution_count": null,
   "id": "871fbe8c-86a1-4401-bbfd-178fa309f760",
   "metadata": {},
   "outputs": [],
   "source": []
  },
  {
   "cell_type": "code",
   "execution_count": null,
   "id": "cdf8f831-fb52-414d-9c58-c5c96a804ee4",
   "metadata": {},
   "outputs": [],
   "source": []
  },
  {
   "cell_type": "code",
   "execution_count": null,
   "id": "92dcc22c-7da5-477e-b548-261b8f7e1707",
   "metadata": {},
   "outputs": [],
   "source": []
  },
  {
   "cell_type": "code",
   "execution_count": null,
   "id": "916696fd-4e37-464e-939b-6cf0983a7bd1",
   "metadata": {},
   "outputs": [],
   "source": []
  },
  {
   "cell_type": "code",
   "execution_count": 1,
   "id": "9066f49d-90fb-4088-9919-efc6bd3c6643",
   "metadata": {},
   "outputs": [],
   "source": [
    "# Initalise the metric variables needed to be tracked\n",
    "total = 0\n",
    "count = 0\n",
    "maximum = 0\n",
    "minimum = 0\n",
    "average = 0"
   ]
  },
  {
   "cell_type": "code",
   "execution_count": 2,
   "id": "c9613a20-b6d3-4b8e-8764-abc16149b075",
   "metadata": {},
   "outputs": [],
   "source": [
    "# Intialise list to hold months and total pnl\n",
    "total_months  = []\n",
    "total_pnl = []"
   ]
  },
  {
   "cell_type": "code",
   "execution_count": null,
   "id": "00702dce-e6af-440d-ab3b-fcc0c3f5217f",
   "metadata": {},
   "outputs": [],
   "source": [
    "# "
   ]
  }
 ],
 "metadata": {
  "kernelspec": {
   "display_name": "Python 3 (ipykernel)",
   "language": "python",
   "name": "python3"
  },
  "language_info": {
   "codemirror_mode": {
    "name": "ipython",
    "version": 3
   },
   "file_extension": ".py",
   "mimetype": "text/x-python",
   "name": "python",
   "nbconvert_exporter": "python",
   "pygments_lexer": "ipython3",
   "version": "3.7.11"
  }
 },
 "nbformat": 4,
 "nbformat_minor": 5
}
